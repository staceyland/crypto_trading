{
  "nbformat": 4,
  "nbformat_minor": 0,
  "metadata": {
    "colab": {
      "name": "Crypto1.ipynb",
      "provenance": [],
      "collapsed_sections": [],
      "authorship_tag": "ABX9TyNzZtR8dA2cLhdrvjwZogBt",
      "include_colab_link": true
    },
    "kernelspec": {
      "name": "python3",
      "display_name": "Python 3"
    },
    "language_info": {
      "name": "python"
    }
  },
  "cells": [
    {
      "cell_type": "markdown",
      "metadata": {
        "id": "view-in-github",
        "colab_type": "text"
      },
      "source": [
        "<a href=\"https://colab.research.google.com/github/staceyland/crypto_trading/blob/main/Crypto1.ipynb\" target=\"_parent\"><img src=\"https://colab.research.google.com/assets/colab-badge.svg\" alt=\"Open In Colab\"/></a>"
      ]
    },
    {
      "cell_type": "code",
      "metadata": {
        "id": "RiqoqwkMi_9C"
      },
      "source": [
        "import numpy as np\n",
        "import pandas as pd\n",
        "import matplotlib.pyplot as plt\n",
        "\n",
        "%matplotlib inline"
      ],
      "execution_count": 62,
      "outputs": []
    },
    {
      "cell_type": "markdown",
      "metadata": {
        "id": "8w4UM-wQHK1p"
      },
      "source": [
        "I just started a new cryptocurrency trading plan over the summer. This is a moving average strategy that I started over the summer to collect small gains in the market. Each trade is a long and I won't close the trade (sell) until I have reached at least 1% profitability. These are the trades I used to test the strategy. The data set I have uploaded are the the crypto trades I took since June."
      ]
    },
    {
      "cell_type": "code",
      "metadata": {
        "id": "76dZhTJlw9nk"
      },
      "source": [
        "Crypto_raw = pd.read_csv('/content/crypto-8-30.csv', parse_dates=['Sell_date'])"
      ],
      "execution_count": 79,
      "outputs": []
    },
    {
      "cell_type": "markdown",
      "metadata": {
        "id": "5swodzlV3fNH"
      },
      "source": [
        "Let's eliminate all rows with missing data."
      ]
    },
    {
      "cell_type": "code",
      "metadata": {
        "id": "FyttDmVe2iq5"
      },
      "source": [
        "Crypto1 = Crypto_raw.dropna()"
      ],
      "execution_count": 136,
      "outputs": []
    },
    {
      "cell_type": "markdown",
      "metadata": {
        "id": "_pCpKgUsoNjj"
      },
      "source": [
        "I'll clean up the data by removing the dollar amounts and other unneccesary or sensitive information."
      ]
    },
    {
      "cell_type": "code",
      "metadata": {
        "id": "Bsr0BWxtoXSq"
      },
      "source": [
        "Crypto = Crypto1.drop(['Date of purchase UTC', 'Date of sale UTC', 'Market1', 'Amount', 'Buy order rate', 'Sell order rate', 'Profit'], axis=1)"
      ],
      "execution_count": 137,
      "outputs": []
    },
    {
      "cell_type": "markdown",
      "metadata": {
        "id": "jUrbgNfQHeZA"
      },
      "source": [
        "Let's take a look at the clean data. We have the markets traded, the date and times I entered and exited the trades, and the total profit earned (by percentage)."
      ]
    },
    {
      "cell_type": "code",
      "metadata": {
        "colab": {
          "base_uri": "https://localhost:8080/",
          "height": 206
        },
        "id": "SbgFHuSo00th",
        "outputId": "dd6efc8f-226e-4585-adf5-a6aabc8a2546"
      },
      "source": [
        "Crypto.head()"
      ],
      "execution_count": 138,
      "outputs": [
        {
          "output_type": "execute_result",
          "data": {
            "text/html": [
              "<div>\n",
              "<style scoped>\n",
              "    .dataframe tbody tr th:only-of-type {\n",
              "        vertical-align: middle;\n",
              "    }\n",
              "\n",
              "    .dataframe tbody tr th {\n",
              "        vertical-align: top;\n",
              "    }\n",
              "\n",
              "    .dataframe thead th {\n",
              "        text-align: right;\n",
              "    }\n",
              "</style>\n",
              "<table border=\"1\" class=\"dataframe\">\n",
              "  <thead>\n",
              "    <tr style=\"text-align: right;\">\n",
              "      <th></th>\n",
              "      <th>Purchase_date</th>\n",
              "      <th>Purchase_time</th>\n",
              "      <th>Sell_date</th>\n",
              "      <th>Sell_time</th>\n",
              "      <th>Market</th>\n",
              "      <th>Profit percentage</th>\n",
              "    </tr>\n",
              "  </thead>\n",
              "  <tbody>\n",
              "    <tr>\n",
              "      <th>0</th>\n",
              "      <td>6/5/2021</td>\n",
              "      <td>1:05:01 PM</td>\n",
              "      <td>2021-06-10</td>\n",
              "      <td>4:12:56 AM</td>\n",
              "      <td>BTC</td>\n",
              "      <td>3.57</td>\n",
              "    </tr>\n",
              "    <tr>\n",
              "      <th>1</th>\n",
              "      <td>6/5/2021</td>\n",
              "      <td>3:03:56 PM</td>\n",
              "      <td>2021-06-07</td>\n",
              "      <td>12:00:12 PM</td>\n",
              "      <td>ADA</td>\n",
              "      <td>3.10</td>\n",
              "    </tr>\n",
              "    <tr>\n",
              "      <th>2</th>\n",
              "      <td>6/5/2021</td>\n",
              "      <td>3:39:57 PM</td>\n",
              "      <td>2021-08-11</td>\n",
              "      <td>5:40:17 AM</td>\n",
              "      <td>ADA</td>\n",
              "      <td>3.34</td>\n",
              "    </tr>\n",
              "    <tr>\n",
              "      <th>3</th>\n",
              "      <td>6/10/2021</td>\n",
              "      <td>6:14:45 AM</td>\n",
              "      <td>2021-08-11</td>\n",
              "      <td>5:44:49 AM</td>\n",
              "      <td>ADA</td>\n",
              "      <td>10.97</td>\n",
              "    </tr>\n",
              "    <tr>\n",
              "      <th>4</th>\n",
              "      <td>6/15/2021</td>\n",
              "      <td>6:29:15 PM</td>\n",
              "      <td>2021-08-01</td>\n",
              "      <td>8:05:24 PM</td>\n",
              "      <td>ETH</td>\n",
              "      <td>2.43</td>\n",
              "    </tr>\n",
              "  </tbody>\n",
              "</table>\n",
              "</div>"
            ],
            "text/plain": [
              "  Purchase_date Purchase_time  Sell_date    Sell_time Market  Profit percentage\n",
              "0      6/5/2021    1:05:01 PM 2021-06-10   4:12:56 AM    BTC               3.57\n",
              "1      6/5/2021    3:03:56 PM 2021-06-07  12:00:12 PM    ADA               3.10\n",
              "2      6/5/2021    3:39:57 PM 2021-08-11   5:40:17 AM    ADA               3.34\n",
              "3     6/10/2021    6:14:45 AM 2021-08-11   5:44:49 AM    ADA              10.97\n",
              "4     6/15/2021    6:29:15 PM 2021-08-01   8:05:24 PM    ETH               2.43"
            ]
          },
          "metadata": {},
          "execution_count": 138
        }
      ]
    },
    {
      "cell_type": "markdown",
      "metadata": {
        "id": "A450NG6dHvCe"
      },
      "source": [
        "After cleaning there were 306 trades logged."
      ]
    },
    {
      "cell_type": "code",
      "metadata": {
        "colab": {
          "base_uri": "https://localhost:8080/"
        },
        "id": "b3nxG0TkGkJo",
        "outputId": "49d49ec6-d772-48b1-8202-6dfd93af8b3f"
      },
      "source": [
        "Crypto.shape[0]"
      ],
      "execution_count": 139,
      "outputs": [
        {
          "output_type": "execute_result",
          "data": {
            "text/plain": [
              "306"
            ]
          },
          "metadata": {},
          "execution_count": 139
        }
      ]
    },
    {
      "cell_type": "markdown",
      "metadata": {
        "id": "OQ-qYrS61DTS"
      },
      "source": [
        "What is the average profit percentage per trade?"
      ]
    },
    {
      "cell_type": "code",
      "metadata": {
        "colab": {
          "base_uri": "https://localhost:8080/"
        },
        "id": "DQdyQheU1XzM",
        "outputId": "a70b152b-baa1-42f7-fa00-147dee72a26e"
      },
      "source": [
        "Crypto['Profit percentage'].mean()"
      ],
      "execution_count": 140,
      "outputs": [
        {
          "output_type": "execute_result",
          "data": {
            "text/plain": [
              "3.9813071895424836"
            ]
          },
          "metadata": {},
          "execution_count": 140
        }
      ]
    },
    {
      "cell_type": "markdown",
      "metadata": {
        "id": "C4SmVc0AICzW"
      },
      "source": [
        "So on average I profited almost 4% per trade."
      ]
    },
    {
      "cell_type": "code",
      "metadata": {
        "colab": {
          "base_uri": "https://localhost:8080/",
          "height": 392
        },
        "id": "C5y9BcGl1rm5",
        "outputId": "de916298-a0ee-4edd-aaac-28864bb138a0"
      },
      "source": [
        "Crypto['Profit percentage'].plot(kind='kde', figsize=(10,6))"
      ],
      "execution_count": 67,
      "outputs": [
        {
          "output_type": "execute_result",
          "data": {
            "text/plain": [
              "<matplotlib.axes._subplots.AxesSubplot at 0x7f8e0be9b0d0>"
            ]
          },
          "metadata": {},
          "execution_count": 67
        },
        {
          "output_type": "display_data",
          "data": {
            "image/png": "[encoded data removed]",
            "text/plain": [
              "<Figure size 720x432 with 1 Axes>"
            ]
          },
          "metadata": {
            "needs_background": "light"
          }
        }
      ]
    },
    {
      "cell_type": "markdown",
      "metadata": {
        "id": "U5jHrooTIUdn"
      },
      "source": [
        "As we can see, most trades profited around 1%. There were several outliers above this percentage."
      ]
    },
    {
      "cell_type": "code",
      "metadata": {
        "colab": {
          "base_uri": "https://localhost:8080/",
          "height": 346
        },
        "id": "6KQM6Sou2KTg",
        "outputId": "1ccc5663-a739-440d-f40a-d9b9de6a8afa"
      },
      "source": [
        "Crypto['Profit percentage'].plot(kind='box', vert=False, figsize=(14,6))"
      ],
      "execution_count": 141,
      "outputs": [
        {
          "output_type": "execute_result",
          "data": {
            "text/plain": [
              "<matplotlib.axes._subplots.AxesSubplot at 0x7f8e0b113090>"
            ]
          },
          "metadata": {},
          "execution_count": 141
        },
        {
          "output_type": "display_data",
          "data": {
            "image/png": "[encoded data removed]",
            "text/plain": [
              "<Figure size 1008x432 with 1 Axes>"
            ]
          },
          "metadata": {
            "needs_background": "light"
          }
        }
      ]
    },
    {
      "cell_type": "code",
      "metadata": {
        "colab": {
          "base_uri": "https://localhost:8080/",
          "height": 365
        },
        "id": "hXcna8Mq2w8w",
        "outputId": "8cba1b7e-e55c-4db4-8c3b-c872ae762871"
      },
      "source": [
        "Crypto['Profit percentage'].plot(kind='hist', bins=30, figsize=(14,6))"
      ],
      "execution_count": 69,
      "outputs": [
        {
          "output_type": "execute_result",
          "data": {
            "text/plain": [
              "<matplotlib.axes._subplots.AxesSubplot at 0x7f8e0bd55e10>"
            ]
          },
          "metadata": {},
          "execution_count": 69
        },
        {
          "output_type": "display_data",
          "data": {
            "image/png": "[encoded data removed]",
            "text/plain": [
              "<Figure size 1008x432 with 1 Axes>"
            ]
          },
          "metadata": {
            "needs_background": "light"
          }
        }
      ]
    },
    {
      "cell_type": "markdown",
      "metadata": {
        "id": "X0xnw1v_I48K"
      },
      "source": [
        "We can see that most of the trades were in the Etherium market. Helium received the least amount of trades."
      ]
    },
    {
      "cell_type": "code",
      "metadata": {
        "colab": {
          "base_uri": "https://localhost:8080/"
        },
        "id": "yveI4_YE2zXM",
        "outputId": "32398bc8-a486-4109-a052-3132b719fc15"
      },
      "source": [
        "Crypto['Market'].value_counts()"
      ],
      "execution_count": 142,
      "outputs": [
        {
          "output_type": "execute_result",
          "data": {
            "text/plain": [
              "ETH     101\n",
              "BNB      94\n",
              "BTC      43\n",
              "ADA      28\n",
              "XRP      24\n",
              "DOGE     15\n",
              "HNT       1\n",
              "Name: Market, dtype: int64"
            ]
          },
          "metadata": {},
          "execution_count": 142
        }
      ]
    },
    {
      "cell_type": "code",
      "metadata": {
        "colab": {
          "base_uri": "https://localhost:8080/",
          "height": 390
        },
        "id": "FZlLEFh34Lqj",
        "outputId": "5eb292f9-097f-4616-db66-3463e4a956c4"
      },
      "source": [
        "Crypto['Market'].value_counts().plot(kind='bar', figsize=(14,6))"
      ],
      "execution_count": 143,
      "outputs": [
        {
          "output_type": "execute_result",
          "data": {
            "text/plain": [
              "<matplotlib.axes._subplots.AxesSubplot at 0x7f8e0b2a83d0>"
            ]
          },
          "metadata": {},
          "execution_count": 143
        },
        {
          "output_type": "display_data",
          "data": {
            "image/png": "[encoded data removed]",
            "text/plain": [
              "<Figure size 1008x432 with 1 Axes>"
            ]
          },
          "metadata": {
            "needs_background": "light"
          }
        }
      ]
    },
    {
      "cell_type": "code",
      "metadata": {
        "colab": {
          "base_uri": "https://localhost:8080/",
          "height": 375
        },
        "id": "4_i-miyB-yN2",
        "outputId": "4d4f3e7e-b650-4322-e0f0-bea390202938"
      },
      "source": [
        "Crypto['Market'].value_counts().plot(kind='pie', figsize=(6,6))\n"
      ],
      "execution_count": 144,
      "outputs": [
        {
          "output_type": "execute_result",
          "data": {
            "text/plain": [
              "<matplotlib.axes._subplots.AxesSubplot at 0x7f8e0af46a10>"
            ]
          },
          "metadata": {},
          "execution_count": 144
        },
        {
          "output_type": "display_data",
          "data": {
            "image/png": "[encoded data removed]",
            "text/plain": [
              "<Figure size 432x432 with 1 Axes>"
            ]
          },
          "metadata": {}
        }
      ]
    },
    {
      "cell_type": "markdown",
      "metadata": {
        "id": "EmL8GWBAJNnI"
      },
      "source": [
        "Dogecoin had the most profitable trades."
      ]
    },
    {
      "cell_type": "code",
      "metadata": {
        "colab": {
          "base_uri": "https://localhost:8080/",
          "height": 406
        },
        "id": "aBszg8YO4yTf",
        "outputId": "824561f3-5ec6-481b-c39e-04336b905355"
      },
      "source": [
        "Crypto.plot(kind='scatter', x='Market', y='Profit percentage', figsize=(6,6))"
      ],
      "execution_count": 145,
      "outputs": [
        {
          "output_type": "execute_result",
          "data": {
            "text/plain": [
              "<matplotlib.axes._subplots.AxesSubplot at 0x7f8e0af30e10>"
            ]
          },
          "metadata": {},
          "execution_count": 145
        },
        {
          "output_type": "display_data",
          "data": {
            "image/png": "[encoded data removed]",
            "text/plain": [
              "<Figure size 432x432 with 1 Axes>"
            ]
          },
          "metadata": {
            "needs_background": "light"
          }
        }
      ]
    },
    {
      "cell_type": "code",
      "metadata": {
        "colab": {
          "base_uri": "https://localhost:8080/",
          "height": 495
        },
        "id": "3a4io5d05dXE",
        "outputId": "8464aee3-63a3-415e-ee16-9b2ad8b3ccff"
      },
      "source": [
        "Crypto[['Profit percentage', 'Market']].boxplot(by='Market', figsize=(10,6))"
      ],
      "execution_count": 146,
      "outputs": [
        {
          "output_type": "stream",
          "name": "stderr",
          "text": [
            "/usr/local/lib/python3.7/dist-packages/numpy/core/_asarray.py:83: VisibleDeprecationWarning: Creating an ndarray from ragged nested sequences (which is a list-or-tuple of lists-or-tuples-or ndarrays with different lengths or shapes) is deprecated. If you meant to do this, you must specify 'dtype=object' when creating the ndarray\n",
            "  return array(a, dtype, copy=False, order=order)\n"
          ]
        },
        {
          "output_type": "execute_result",
          "data": {
            "text/plain": [
              "<matplotlib.axes._subplots.AxesSubplot at 0x7f8e0ae83ad0>"
            ]
          },
          "metadata": {},
          "execution_count": 146
        },
        {
          "output_type": "display_data",
          "data": {
            "image/png": "[encoded data removed]",
            "text/plain": [
              "<Figure size 720x432 with 1 Axes>"
            ]
          },
          "metadata": {
            "needs_background": "light"
          }
        }
      ]
    },
    {
      "cell_type": "code",
      "metadata": {
        "colab": {
          "base_uri": "https://localhost:8080/",
          "height": 441
        },
        "id": "7_DDr8c95Hvp",
        "outputId": "68bb8ccb-31aa-4fec-9646-911803a00928"
      },
      "source": [
        "Crypto.plot(kind='scatter', x='Sell_Date', y='Profit percentage', figsize=(12,6))\n",
        "x = np.arange(0, 10, 1)\n",
        "y = np.sin(x)\n",
        "plt.plot(x, y)\n",
        "plt.xticks(rotation = 45)\n",
        "plt.show()"
      ],
      "execution_count": null,
      "outputs": [
        {
          "output_type": "display_data",
          "data": {
            "image/png": "[encoded data removed]",
            "text/plain": [
              "<Figure size 864x432 with 1 Axes>"
            ]
          },
          "metadata": {
            "needs_background": "light"
          }
        }
      ]
    },
    {
      "cell_type": "markdown",
      "metadata": {
        "id": "ZLs-I2R_7Tey"
      },
      "source": [
        "What was the HNT trade?\n"
      ]
    },
    {
      "cell_type": "code",
      "metadata": {
        "colab": {
          "base_uri": "https://localhost:8080/",
          "height": 115
        },
        "id": "fzNAFfXb7BrY",
        "outputId": "f60bd5ca-c0f9-4c59-a1e8-b4aafaeccc12"
      },
      "source": [
        "Crypto.loc[(Crypto['Market'] == 'HNT')]"
      ],
      "execution_count": 129,
      "outputs": [
        {
          "output_type": "execute_result",
          "data": {
            "text/html": [
              "<div>\n",
              "<style scoped>\n",
              "    .dataframe tbody tr th:only-of-type {\n",
              "        vertical-align: middle;\n",
              "    }\n",
              "\n",
              "    .dataframe tbody tr th {\n",
              "        vertical-align: top;\n",
              "    }\n",
              "\n",
              "    .dataframe thead th {\n",
              "        text-align: right;\n",
              "    }\n",
              "</style>\n",
              "<table border=\"1\" class=\"dataframe\">\n",
              "  <thead>\n",
              "    <tr style=\"text-align: right;\">\n",
              "      <th></th>\n",
              "      <th>Purchase_date</th>\n",
              "      <th>Purchase_time</th>\n",
              "      <th>Sell_date</th>\n",
              "      <th>Sell_time</th>\n",
              "      <th>Market</th>\n",
              "      <th>Profit percentage</th>\n",
              "      <th>Trade_duration</th>\n",
              "    </tr>\n",
              "  </thead>\n",
              "  <tbody>\n",
              "    <tr>\n",
              "      <th>298</th>\n",
              "      <td>2021-08-26</td>\n",
              "      <td>4:49:26 AM</td>\n",
              "      <td>2021-08-27</td>\n",
              "      <td>10:43:35 PM</td>\n",
              "      <td>HNT</td>\n",
              "      <td>3.51</td>\n",
              "      <td>1</td>\n",
              "    </tr>\n",
              "  </tbody>\n",
              "</table>\n",
              "</div>"
            ],
            "text/plain": [
              "    Purchase_date Purchase_time  ... Profit percentage Trade_duration\n",
              "298    2021-08-26    4:49:26 AM  ...              3.51              1\n",
              "\n",
              "[1 rows x 7 columns]"
            ]
          },
          "metadata": {},
          "execution_count": 129
        }
      ]
    },
    {
      "cell_type": "markdown",
      "metadata": {
        "id": "VpUSa73I8PG3"
      },
      "source": [
        "How many trades were BNB or DOGE?"
      ]
    },
    {
      "cell_type": "code",
      "metadata": {
        "colab": {
          "base_uri": "https://localhost:8080/"
        },
        "id": "YPA5xmx-8VWo",
        "outputId": "105ab9c1-6166-4eec-8f22-efbfa9fa25da"
      },
      "source": [
        "Crypto.loc[(Crypto['Market'] == 'BNB') | (Crypto['Market'] == 'DOGE')].shape[0]"
      ],
      "execution_count": 125,
      "outputs": [
        {
          "output_type": "execute_result",
          "data": {
            "text/plain": [
              "112"
            ]
          },
          "metadata": {},
          "execution_count": 125
        }
      ]
    },
    {
      "cell_type": "markdown",
      "metadata": {
        "id": "aupwysU0CvZQ"
      },
      "source": [
        "How many Etherium trades were completed each day?"
      ]
    },
    {
      "cell_type": "code",
      "metadata": {
        "colab": {
          "base_uri": "https://localhost:8080/"
        },
        "id": "Wxc4hBPo9u7l",
        "outputId": "cdacb998-61dd-4f7f-e77d-a31eb948c7af"
      },
      "source": [
        "ETH_trades = Crypto.loc[Crypto['Market'] == 'ETH', 'Sell_date'].value_counts()\n",
        "\n",
        "ETH_trades"
      ],
      "execution_count": 85,
      "outputs": [
        {
          "output_type": "execute_result",
          "data": {
            "text/plain": [
              "2021-08-01    7\n",
              "2021-08-13    6\n",
              "2021-08-06    6\n",
              "2021-07-30    6\n",
              "2021-08-04    6\n",
              "2021-08-08    5\n",
              "2021-08-15    4\n",
              "2021-08-27    4\n",
              "2021-08-05    4\n",
              "2021-08-07    4\n",
              "2021-06-17    3\n",
              "2021-08-09    3\n",
              "2021-08-11    3\n",
              "2021-08-02    3\n",
              "2021-08-10    3\n",
              "2021-07-31    3\n",
              "2021-08-19    3\n",
              "2021-08-20    3\n",
              "2021-08-16    2\n",
              "2021-07-28    2\n",
              "2021-07-07    2\n",
              "2021-08-12    2\n",
              "2021-07-04    2\n",
              "2021-08-23    2\n",
              "2021-08-18    2\n",
              "2021-08-25    2\n",
              "2021-08-03    2\n",
              "2021-08-17    2\n",
              "2021-08-28    1\n",
              "2021-08-21    1\n",
              "2021-06-18    1\n",
              "2021-08-29    1\n",
              "2021-08-24    1\n",
              "Name: Sell_date, dtype: int64"
            ]
          },
          "metadata": {},
          "execution_count": 85
        }
      ]
    },
    {
      "cell_type": "code",
      "metadata": {
        "colab": {
          "base_uri": "https://localhost:8080/",
          "height": 467
        },
        "id": "g52RUjBP-PbR",
        "outputId": "e1fa367d-3d2e-44fe-b44a-82417807b421"
      },
      "source": [
        "ETH_trades.plot(kind='bar', figsize=(14,6))"
      ],
      "execution_count": 113,
      "outputs": [
        {
          "output_type": "execute_result",
          "data": {
            "text/plain": [
              "<matplotlib.axes._subplots.AxesSubplot at 0x7f8e0b2d1510>"
            ]
          },
          "metadata": {},
          "execution_count": 113
        },
        {
          "output_type": "display_data",
          "data": {
            "image/png": "[encoded data removed]",
            "text/plain": [
              "<Figure size 1008x432 with 1 Axes>"
            ]
          },
          "metadata": {
            "needs_background": "light"
          }
        }
      ]
    },
    {
      "cell_type": "markdown",
      "metadata": {
        "id": "mNt96X2W_8fn"
      },
      "source": [
        "Which trade had the highest profit percentage? "
      ]
    },
    {
      "cell_type": "code",
      "metadata": {
        "colab": {
          "base_uri": "https://localhost:8080/",
          "height": 115
        },
        "id": "7iJnHf3XAAMj",
        "outputId": "a7f252ef-95de-4a0a-9e07-8665b13cbaac"
      },
      "source": [
        "cond = Crypto['Profit percentage'] == Crypto['Profit percentage'].max()\n",
        "\n",
        "Crypto.loc[cond]"
      ],
      "execution_count": 123,
      "outputs": [
        {
          "output_type": "execute_result",
          "data": {
            "text/html": [
              "<div>\n",
              "<style scoped>\n",
              "    .dataframe tbody tr th:only-of-type {\n",
              "        vertical-align: middle;\n",
              "    }\n",
              "\n",
              "    .dataframe tbody tr th {\n",
              "        vertical-align: top;\n",
              "    }\n",
              "\n",
              "    .dataframe thead th {\n",
              "        text-align: right;\n",
              "    }\n",
              "</style>\n",
              "<table border=\"1\" class=\"dataframe\">\n",
              "  <thead>\n",
              "    <tr style=\"text-align: right;\">\n",
              "      <th></th>\n",
              "      <th>Purchase_date</th>\n",
              "      <th>Purchase_time</th>\n",
              "      <th>Sell_date</th>\n",
              "      <th>Sell_time</th>\n",
              "      <th>Market</th>\n",
              "      <th>Profit percentage</th>\n",
              "      <th>Trade_duration</th>\n",
              "    </tr>\n",
              "  </thead>\n",
              "  <tbody>\n",
              "    <tr>\n",
              "      <th>59</th>\n",
              "      <td>2021-07-28</td>\n",
              "      <td>1:15:17 PM</td>\n",
              "      <td>2021-08-08</td>\n",
              "      <td>12:56:24 AM</td>\n",
              "      <td>DOGE</td>\n",
              "      <td>34.83</td>\n",
              "      <td>11</td>\n",
              "    </tr>\n",
              "  </tbody>\n",
              "</table>\n",
              "</div>"
            ],
            "text/plain": [
              "   Purchase_date Purchase_time  ... Profit percentage Trade_duration\n",
              "59    2021-07-28    1:15:17 PM  ...             34.83             11\n",
              "\n",
              "[1 rows x 7 columns]"
            ]
          },
          "metadata": {},
          "execution_count": 123
        }
      ]
    },
    {
      "cell_type": "markdown",
      "metadata": {
        "id": "YTL21oP3FIr9"
      },
      "source": [
        "Which trade had the lowest profit percentage?"
      ]
    },
    {
      "cell_type": "code",
      "metadata": {
        "id": "0s7DZQHuAeQW",
        "colab": {
          "base_uri": "https://localhost:8080/",
          "height": 81
        },
        "outputId": "d1f24b94-790f-40b8-e27c-322b53bd903e"
      },
      "source": [
        "cond = Crypto['Profit percentage'] == Crypto['Profit percentage'].min()\n",
        "\n",
        "Crypto.loc[cond]"
      ],
      "execution_count": 94,
      "outputs": [
        {
          "output_type": "execute_result",
          "data": {
            "text/html": [
              "<div>\n",
              "<style scoped>\n",
              "    .dataframe tbody tr th:only-of-type {\n",
              "        vertical-align: middle;\n",
              "    }\n",
              "\n",
              "    .dataframe tbody tr th {\n",
              "        vertical-align: top;\n",
              "    }\n",
              "\n",
              "    .dataframe thead th {\n",
              "        text-align: right;\n",
              "    }\n",
              "</style>\n",
              "<table border=\"1\" class=\"dataframe\">\n",
              "  <thead>\n",
              "    <tr style=\"text-align: right;\">\n",
              "      <th></th>\n",
              "      <th>Purchase_date</th>\n",
              "      <th>Purchase_time</th>\n",
              "      <th>Sell_date</th>\n",
              "      <th>Sell_time</th>\n",
              "      <th>Market</th>\n",
              "      <th>Profit percentage</th>\n",
              "    </tr>\n",
              "  </thead>\n",
              "  <tbody>\n",
              "    <tr>\n",
              "      <th>295</th>\n",
              "      <td>8/25/2021</td>\n",
              "      <td>12:49:36 PM</td>\n",
              "      <td>2021-08-25</td>\n",
              "      <td>5:16:30 PM</td>\n",
              "      <td>ETH</td>\n",
              "      <td>1.8</td>\n",
              "    </tr>\n",
              "  </tbody>\n",
              "</table>\n",
              "</div>"
            ],
            "text/plain": [
              "    Purchase_date Purchase_time  ... Market Profit percentage\n",
              "295     8/25/2021   12:49:36 PM  ...    ETH               1.8\n",
              "\n",
              "[1 rows x 6 columns]"
            ]
          },
          "metadata": {},
          "execution_count": 94
        }
      ]
    },
    {
      "cell_type": "markdown",
      "metadata": {
        "id": "it_CqCT3zku5"
      },
      "source": [
        "Let's see how much time it takes to complete a trade. I'll create a column to calculate the duration of each trade."
      ]
    },
    {
      "cell_type": "code",
      "metadata": {
        "id": "iothWRdQr0tb"
      },
      "source": [
        "Crypto[['Purchase_date','Sell_date']] = Crypto[['Purchase_date','Sell_date']].apply(pd.to_datetime) #if conversion required\n",
        "Crypto['Trade_duration'] = (Crypto['Sell_date'] - Crypto['Purchase_date']).dt.days"
      ],
      "execution_count": 148,
      "outputs": []
    },
    {
      "cell_type": "markdown",
      "metadata": {
        "id": "ca7blv73zxjT"
      },
      "source": [
        "Let's see the new column."
      ]
    },
    {
      "cell_type": "code",
      "metadata": {
        "colab": {
          "base_uri": "https://localhost:8080/",
          "height": 241
        },
        "id": "4YxyE62tsbda",
        "outputId": "7d04f701-207d-4403-ef8b-9eb0c72f19e5"
      },
      "source": [
        "Crypto.head()"
      ],
      "execution_count": 149,
      "outputs": [
        {
          "output_type": "execute_result",
          "data": {
            "text/html": [
              "<div>\n",
              "<style scoped>\n",
              "    .dataframe tbody tr th:only-of-type {\n",
              "        vertical-align: middle;\n",
              "    }\n",
              "\n",
              "    .dataframe tbody tr th {\n",
              "        vertical-align: top;\n",
              "    }\n",
              "\n",
              "    .dataframe thead th {\n",
              "        text-align: right;\n",
              "    }\n",
              "</style>\n",
              "<table border=\"1\" class=\"dataframe\">\n",
              "  <thead>\n",
              "    <tr style=\"text-align: right;\">\n",
              "      <th></th>\n",
              "      <th>Purchase_date</th>\n",
              "      <th>Purchase_time</th>\n",
              "      <th>Sell_date</th>\n",
              "      <th>Sell_time</th>\n",
              "      <th>Market</th>\n",
              "      <th>Profit percentage</th>\n",
              "      <th>Trade_duration</th>\n",
              "    </tr>\n",
              "  </thead>\n",
              "  <tbody>\n",
              "    <tr>\n",
              "      <th>0</th>\n",
              "      <td>2021-06-05</td>\n",
              "      <td>1:05:01 PM</td>\n",
              "      <td>2021-06-10</td>\n",
              "      <td>4:12:56 AM</td>\n",
              "      <td>BTC</td>\n",
              "      <td>3.57</td>\n",
              "      <td>5</td>\n",
              "    </tr>\n",
              "    <tr>\n",
              "      <th>1</th>\n",
              "      <td>2021-06-05</td>\n",
              "      <td>3:03:56 PM</td>\n",
              "      <td>2021-06-07</td>\n",
              "      <td>12:00:12 PM</td>\n",
              "      <td>ADA</td>\n",
              "      <td>3.10</td>\n",
              "      <td>2</td>\n",
              "    </tr>\n",
              "    <tr>\n",
              "      <th>2</th>\n",
              "      <td>2021-06-05</td>\n",
              "      <td>3:39:57 PM</td>\n",
              "      <td>2021-08-11</td>\n",
              "      <td>5:40:17 AM</td>\n",
              "      <td>ADA</td>\n",
              "      <td>3.34</td>\n",
              "      <td>67</td>\n",
              "    </tr>\n",
              "    <tr>\n",
              "      <th>3</th>\n",
              "      <td>2021-06-10</td>\n",
              "      <td>6:14:45 AM</td>\n",
              "      <td>2021-08-11</td>\n",
              "      <td>5:44:49 AM</td>\n",
              "      <td>ADA</td>\n",
              "      <td>10.97</td>\n",
              "      <td>62</td>\n",
              "    </tr>\n",
              "    <tr>\n",
              "      <th>4</th>\n",
              "      <td>2021-06-15</td>\n",
              "      <td>6:29:15 PM</td>\n",
              "      <td>2021-08-01</td>\n",
              "      <td>8:05:24 PM</td>\n",
              "      <td>ETH</td>\n",
              "      <td>2.43</td>\n",
              "      <td>47</td>\n",
              "    </tr>\n",
              "  </tbody>\n",
              "</table>\n",
              "</div>"
            ],
            "text/plain": [
              "  Purchase_date Purchase_time  ... Profit percentage Trade_duration\n",
              "0    2021-06-05    1:05:01 PM  ...              3.57              5\n",
              "1    2021-06-05    3:03:56 PM  ...              3.10              2\n",
              "2    2021-06-05    3:39:57 PM  ...              3.34             67\n",
              "3    2021-06-10    6:14:45 AM  ...             10.97             62\n",
              "4    2021-06-15    6:29:15 PM  ...              2.43             47\n",
              "\n",
              "[5 rows x 7 columns]"
            ]
          },
          "metadata": {},
          "execution_count": 149
        }
      ]
    },
    {
      "cell_type": "markdown",
      "metadata": {
        "id": "__3DE7nlt7zN"
      },
      "source": [
        "What is the average number of days I held a trade?"
      ]
    },
    {
      "cell_type": "code",
      "metadata": {
        "colab": {
          "base_uri": "https://localhost:8080/"
        },
        "id": "utIbPaAOuBvJ",
        "outputId": "737d3191-e8c3-4952-815b-577617e43c39"
      },
      "source": [
        "Crypto['Trade_duration'].mean()"
      ],
      "execution_count": 150,
      "outputs": [
        {
          "output_type": "execute_result",
          "data": {
            "text/plain": [
              "6.53921568627451"
            ]
          },
          "metadata": {},
          "execution_count": 150
        }
      ]
    },
    {
      "cell_type": "markdown",
      "metadata": {
        "id": "CXiMVOmcz2X_"
      },
      "source": [
        "So, on average I spend over 6 days in a trade to make an average 4% profit."
      ]
    },
    {
      "cell_type": "markdown",
      "metadata": {
        "id": "gBN-y4frvWZd"
      },
      "source": [
        "What is the shortest time I spent in a trade (days)?"
      ]
    },
    {
      "cell_type": "code",
      "metadata": {
        "colab": {
          "base_uri": "https://localhost:8080/"
        },
        "id": "lqUAIBhnvTqx",
        "outputId": "b7e8a37e-51b0-4fe8-d253-4ccfa75d102a"
      },
      "source": [
        "Crypto['Trade_duration'].min()"
      ],
      "execution_count": 151,
      "outputs": [
        {
          "output_type": "execute_result",
          "data": {
            "text/plain": [
              "0"
            ]
          },
          "metadata": {},
          "execution_count": 151
        }
      ]
    },
    {
      "cell_type": "markdown",
      "metadata": {
        "id": "P3OvgrlBvdd0"
      },
      "source": [
        "This tells me there are trades that I entered and exited in the same day. How may trades were there and what were the trades?"
      ]
    },
    {
      "cell_type": "code",
      "metadata": {
        "colab": {
          "base_uri": "https://localhost:8080/",
          "height": 511
        },
        "id": "xCbLpomBvF6L",
        "outputId": "11c772a7-4cfb-4d04-91ca-e378579d2601"
      },
      "source": [
        "cond = Crypto['Trade_duration'] == Crypto['Trade_duration'].min()\n",
        "\n",
        "Crypto.loc[cond]"
      ],
      "execution_count": 152,
      "outputs": [
        {
          "output_type": "execute_result",
          "data": {
            "text/html": [
              "<div>\n",
              "<style scoped>\n",
              "    .dataframe tbody tr th:only-of-type {\n",
              "        vertical-align: middle;\n",
              "    }\n",
              "\n",
              "    .dataframe tbody tr th {\n",
              "        vertical-align: top;\n",
              "    }\n",
              "\n",
              "    .dataframe thead th {\n",
              "        text-align: right;\n",
              "    }\n",
              "</style>\n",
              "<table border=\"1\" class=\"dataframe\">\n",
              "  <thead>\n",
              "    <tr style=\"text-align: right;\">\n",
              "      <th></th>\n",
              "      <th>Purchase_date</th>\n",
              "      <th>Purchase_time</th>\n",
              "      <th>Sell_date</th>\n",
              "      <th>Sell_time</th>\n",
              "      <th>Market</th>\n",
              "      <th>Profit percentage</th>\n",
              "      <th>Trade_duration</th>\n",
              "    </tr>\n",
              "  </thead>\n",
              "  <tbody>\n",
              "    <tr>\n",
              "      <th>36</th>\n",
              "      <td>2021-06-17</td>\n",
              "      <td>5:34:44 PM</td>\n",
              "      <td>2021-06-17</td>\n",
              "      <td>11:20:28 PM</td>\n",
              "      <td>ETH</td>\n",
              "      <td>2.28</td>\n",
              "      <td>0</td>\n",
              "    </tr>\n",
              "    <tr>\n",
              "      <th>40</th>\n",
              "      <td>2021-06-18</td>\n",
              "      <td>10:25:43 AM</td>\n",
              "      <td>2021-06-18</td>\n",
              "      <td>11:05:05 AM</td>\n",
              "      <td>ETH</td>\n",
              "      <td>2.08</td>\n",
              "      <td>0</td>\n",
              "    </tr>\n",
              "    <tr>\n",
              "      <th>42</th>\n",
              "      <td>2021-07-04</td>\n",
              "      <td>8:32:14 AM</td>\n",
              "      <td>2021-07-04</td>\n",
              "      <td>6:27:47 PM</td>\n",
              "      <td>BNB</td>\n",
              "      <td>1.86</td>\n",
              "      <td>0</td>\n",
              "    </tr>\n",
              "    <tr>\n",
              "      <th>47</th>\n",
              "      <td>2021-07-07</td>\n",
              "      <td>2:01:50 AM</td>\n",
              "      <td>2021-07-07</td>\n",
              "      <td>4:45:30 AM</td>\n",
              "      <td>ETH</td>\n",
              "      <td>2.73</td>\n",
              "      <td>0</td>\n",
              "    </tr>\n",
              "    <tr>\n",
              "      <th>48</th>\n",
              "      <td>2021-07-07</td>\n",
              "      <td>4:12:03 AM</td>\n",
              "      <td>2021-07-07</td>\n",
              "      <td>6:25:14 AM</td>\n",
              "      <td>BNB</td>\n",
              "      <td>2.07</td>\n",
              "      <td>0</td>\n",
              "    </tr>\n",
              "    <tr>\n",
              "      <th>...</th>\n",
              "      <td>...</td>\n",
              "      <td>...</td>\n",
              "      <td>...</td>\n",
              "      <td>...</td>\n",
              "      <td>...</td>\n",
              "      <td>...</td>\n",
              "      <td>...</td>\n",
              "    </tr>\n",
              "    <tr>\n",
              "      <th>301</th>\n",
              "      <td>2021-08-26</td>\n",
              "      <td>8:40:48 AM</td>\n",
              "      <td>2021-08-26</td>\n",
              "      <td>1:46:05 PM</td>\n",
              "      <td>BNB</td>\n",
              "      <td>2.15</td>\n",
              "      <td>0</td>\n",
              "    </tr>\n",
              "    <tr>\n",
              "      <th>309</th>\n",
              "      <td>2021-08-27</td>\n",
              "      <td>12:48:33 AM</td>\n",
              "      <td>2021-08-27</td>\n",
              "      <td>2:55:25 AM</td>\n",
              "      <td>BNB</td>\n",
              "      <td>2.49</td>\n",
              "      <td>0</td>\n",
              "    </tr>\n",
              "    <tr>\n",
              "      <th>310</th>\n",
              "      <td>2021-08-27</td>\n",
              "      <td>3:58:18 AM</td>\n",
              "      <td>2021-08-27</td>\n",
              "      <td>11:24:55 AM</td>\n",
              "      <td>BNB</td>\n",
              "      <td>2.17</td>\n",
              "      <td>0</td>\n",
              "    </tr>\n",
              "    <tr>\n",
              "      <th>311</th>\n",
              "      <td>2021-08-27</td>\n",
              "      <td>4:51:06 AM</td>\n",
              "      <td>2021-08-27</td>\n",
              "      <td>3:37:06 PM</td>\n",
              "      <td>XRP</td>\n",
              "      <td>6.71</td>\n",
              "      <td>0</td>\n",
              "    </tr>\n",
              "    <tr>\n",
              "      <th>313</th>\n",
              "      <td>2021-08-29</td>\n",
              "      <td>3:55:57 AM</td>\n",
              "      <td>2021-08-29</td>\n",
              "      <td>10:14:33 PM</td>\n",
              "      <td>ETH</td>\n",
              "      <td>2.17</td>\n",
              "      <td>0</td>\n",
              "    </tr>\n",
              "  </tbody>\n",
              "</table>\n",
              "<p>86 rows × 7 columns</p>\n",
              "</div>"
            ],
            "text/plain": [
              "    Purchase_date Purchase_time  ... Profit percentage Trade_duration\n",
              "36     2021-06-17    5:34:44 PM  ...              2.28              0\n",
              "40     2021-06-18   10:25:43 AM  ...              2.08              0\n",
              "42     2021-07-04    8:32:14 AM  ...              1.86              0\n",
              "47     2021-07-07    2:01:50 AM  ...              2.73              0\n",
              "48     2021-07-07    4:12:03 AM  ...              2.07              0\n",
              "..            ...           ...  ...               ...            ...\n",
              "301    2021-08-26    8:40:48 AM  ...              2.15              0\n",
              "309    2021-08-27   12:48:33 AM  ...              2.49              0\n",
              "310    2021-08-27    3:58:18 AM  ...              2.17              0\n",
              "311    2021-08-27    4:51:06 AM  ...              6.71              0\n",
              "313    2021-08-29    3:55:57 AM  ...              2.17              0\n",
              "\n",
              "[86 rows x 7 columns]"
            ]
          },
          "metadata": {},
          "execution_count": 152
        }
      ]
    },
    {
      "cell_type": "markdown",
      "metadata": {
        "id": "nWpdJ7R3vxU5"
      },
      "source": [
        "It looks like there were 86 trades that were completed in less than a day. What's the most amount of time I spent in a trade?"
      ]
    },
    {
      "cell_type": "code",
      "metadata": {
        "colab": {
          "base_uri": "https://localhost:8080/"
        },
        "id": "9Kyg56gyuMjY",
        "outputId": "4886e4a9-0595-4538-e4db-20323ba9dab2"
      },
      "source": [
        "Crypto['Trade_duration'].max()"
      ],
      "execution_count": 153,
      "outputs": [
        {
          "output_type": "execute_result",
          "data": {
            "text/plain": [
              "67"
            ]
          },
          "metadata": {},
          "execution_count": 153
        }
      ]
    },
    {
      "cell_type": "code",
      "metadata": {
        "colab": {
          "base_uri": "https://localhost:8080/",
          "height": 81
        },
        "id": "Hmfc6RNixlyS",
        "outputId": "c4c16e62-0b1b-4b03-8697-32b2bd9d961a"
      },
      "source": [
        "cond = Crypto['Trade_duration'] == Crypto['Trade_duration'].max()\n",
        "\n",
        "Crypto.loc[cond]"
      ],
      "execution_count": 154,
      "outputs": [
        {
          "output_type": "execute_result",
          "data": {
            "text/html": [
              "<div>\n",
              "<style scoped>\n",
              "    .dataframe tbody tr th:only-of-type {\n",
              "        vertical-align: middle;\n",
              "    }\n",
              "\n",
              "    .dataframe tbody tr th {\n",
              "        vertical-align: top;\n",
              "    }\n",
              "\n",
              "    .dataframe thead th {\n",
              "        text-align: right;\n",
              "    }\n",
              "</style>\n",
              "<table border=\"1\" class=\"dataframe\">\n",
              "  <thead>\n",
              "    <tr style=\"text-align: right;\">\n",
              "      <th></th>\n",
              "      <th>Purchase_date</th>\n",
              "      <th>Purchase_time</th>\n",
              "      <th>Sell_date</th>\n",
              "      <th>Sell_time</th>\n",
              "      <th>Market</th>\n",
              "      <th>Profit percentage</th>\n",
              "      <th>Trade_duration</th>\n",
              "    </tr>\n",
              "  </thead>\n",
              "  <tbody>\n",
              "    <tr>\n",
              "      <th>2</th>\n",
              "      <td>2021-06-05</td>\n",
              "      <td>3:39:57 PM</td>\n",
              "      <td>2021-08-11</td>\n",
              "      <td>5:40:17 AM</td>\n",
              "      <td>ADA</td>\n",
              "      <td>3.34</td>\n",
              "      <td>67</td>\n",
              "    </tr>\n",
              "  </tbody>\n",
              "</table>\n",
              "</div>"
            ],
            "text/plain": [
              "  Purchase_date Purchase_time  ... Profit percentage Trade_duration\n",
              "2    2021-06-05    3:39:57 PM  ...              3.34             67\n",
              "\n",
              "[1 rows x 7 columns]"
            ]
          },
          "metadata": {},
          "execution_count": 154
        }
      ]
    },
    {
      "cell_type": "markdown",
      "metadata": {
        "id": "BOGYv6dS0L5P"
      },
      "source": [
        "I spent 67 days in a ADA trade. Wow! The market took a downturn and I had to HODL!"
      ]
    },
    {
      "cell_type": "code",
      "metadata": {
        "colab": {
          "base_uri": "https://localhost:8080/",
          "height": 495
        },
        "id": "bLaTsf19sfKI",
        "outputId": "0ca0536c-4370-459d-a342-ff13117b0c87"
      },
      "source": [
        "Crypto[['Trade_duration', 'Market']].boxplot(by='Market', figsize=(10,6))"
      ],
      "execution_count": 155,
      "outputs": [
        {
          "output_type": "stream",
          "name": "stderr",
          "text": [
            "/usr/local/lib/python3.7/dist-packages/numpy/core/_asarray.py:83: VisibleDeprecationWarning: Creating an ndarray from ragged nested sequences (which is a list-or-tuple of lists-or-tuples-or ndarrays with different lengths or shapes) is deprecated. If you meant to do this, you must specify 'dtype=object' when creating the ndarray\n",
            "  return array(a, dtype, copy=False, order=order)\n"
          ]
        },
        {
          "output_type": "execute_result",
          "data": {
            "text/plain": [
              "<matplotlib.axes._subplots.AxesSubplot at 0x7f8e0adda550>"
            ]
          },
          "metadata": {},
          "execution_count": 155
        },
        {
          "output_type": "display_data",
          "data": {
            "image/png": "[encoded data removed]",
            "text/plain": [
              "<Figure size 720x432 with 1 Axes>"
            ]
          },
          "metadata": {
            "needs_background": "light"
          }
        }
      ]
    },
    {
      "cell_type": "markdown",
      "metadata": {
        "id": "XHgmwg6n0oAE"
      },
      "source": [
        "Which markets give faster turnarounds? Looks like DOGE not only gave me my most profitable trade, but I have to stay in trades for less time."
      ]
    },
    {
      "cell_type": "code",
      "metadata": {
        "colab": {
          "base_uri": "https://localhost:8080/",
          "height": 390
        },
        "id": "WSvQqy_WtHKH",
        "outputId": "075cca5b-1801-4f86-83e9-8314ecb2d63a"
      },
      "source": [
        "Crypto.plot(kind='scatter', x='Market', y='Trade_duration', figsize=(10,6))\n",
        "x = np.arange(0, 8, 2)\n",
        "y = np.sin(x)\n",
        "plt.plot(x, y)\n",
        "\n",
        "plt.show()"
      ],
      "execution_count": 156,
      "outputs": [
        {
          "output_type": "display_data",
          "data": {
            "image/png": "[encoded data removed]",
            "text/plain": [
              "<Figure size 720x432 with 1 Axes>"
            ]
          },
          "metadata": {
            "needs_background": "light"
          }
        }
      ]
    },
    {
      "cell_type": "markdown",
      "metadata": {
        "id": "CEK_tUGh1YRI"
      },
      "source": [
        "What were my DOGE trades?"
      ]
    },
    {
      "cell_type": "code",
      "metadata": {
        "colab": {
          "base_uri": "https://localhost:8080/",
          "height": 572
        },
        "id": "n5ykShP61bIc",
        "outputId": "f666663b-8ba8-4c9e-fbbd-562ab7da6926"
      },
      "source": [
        "Crypto.loc[(Crypto['Market'] == 'DOGE')]"
      ],
      "execution_count": 157,
      "outputs": [
        {
          "output_type": "execute_result",
          "data": {
            "text/html": [
              "<div>\n",
              "<style scoped>\n",
              "    .dataframe tbody tr th:only-of-type {\n",
              "        vertical-align: middle;\n",
              "    }\n",
              "\n",
              "    .dataframe tbody tr th {\n",
              "        vertical-align: top;\n",
              "    }\n",
              "\n",
              "    .dataframe thead th {\n",
              "        text-align: right;\n",
              "    }\n",
              "</style>\n",
              "<table border=\"1\" class=\"dataframe\">\n",
              "  <thead>\n",
              "    <tr style=\"text-align: right;\">\n",
              "      <th></th>\n",
              "      <th>Purchase_date</th>\n",
              "      <th>Purchase_time</th>\n",
              "      <th>Sell_date</th>\n",
              "      <th>Sell_time</th>\n",
              "      <th>Market</th>\n",
              "      <th>Profit percentage</th>\n",
              "      <th>Trade_duration</th>\n",
              "    </tr>\n",
              "  </thead>\n",
              "  <tbody>\n",
              "    <tr>\n",
              "      <th>59</th>\n",
              "      <td>2021-07-28</td>\n",
              "      <td>1:15:17 PM</td>\n",
              "      <td>2021-08-08</td>\n",
              "      <td>12:56:24 AM</td>\n",
              "      <td>DOGE</td>\n",
              "      <td>34.83</td>\n",
              "      <td>11</td>\n",
              "    </tr>\n",
              "    <tr>\n",
              "      <th>127</th>\n",
              "      <td>2021-08-07</td>\n",
              "      <td>5:55:42 AM</td>\n",
              "      <td>2021-08-08</td>\n",
              "      <td>12:58:28 AM</td>\n",
              "      <td>DOGE</td>\n",
              "      <td>27.06</td>\n",
              "      <td>1</td>\n",
              "    </tr>\n",
              "    <tr>\n",
              "      <th>143</th>\n",
              "      <td>2021-08-09</td>\n",
              "      <td>1:18:50 AM</td>\n",
              "      <td>2021-08-09</td>\n",
              "      <td>1:52:04 PM</td>\n",
              "      <td>DOGE</td>\n",
              "      <td>7.27</td>\n",
              "      <td>0</td>\n",
              "    </tr>\n",
              "    <tr>\n",
              "      <th>147</th>\n",
              "      <td>2021-08-09</td>\n",
              "      <td>8:40:47 AM</td>\n",
              "      <td>2021-08-09</td>\n",
              "      <td>1:52:59 PM</td>\n",
              "      <td>DOGE</td>\n",
              "      <td>3.16</td>\n",
              "      <td>0</td>\n",
              "    </tr>\n",
              "    <tr>\n",
              "      <th>148</th>\n",
              "      <td>2021-08-09</td>\n",
              "      <td>8:54:58 AM</td>\n",
              "      <td>2021-08-09</td>\n",
              "      <td>1:53:13 PM</td>\n",
              "      <td>DOGE</td>\n",
              "      <td>2.90</td>\n",
              "      <td>0</td>\n",
              "    </tr>\n",
              "    <tr>\n",
              "      <th>149</th>\n",
              "      <td>2021-08-09</td>\n",
              "      <td>12:30:11 PM</td>\n",
              "      <td>2021-08-12</td>\n",
              "      <td>5:26:22 AM</td>\n",
              "      <td>DOGE</td>\n",
              "      <td>6.68</td>\n",
              "      <td>3</td>\n",
              "    </tr>\n",
              "    <tr>\n",
              "      <th>157</th>\n",
              "      <td>2021-08-10</td>\n",
              "      <td>7:36:11 AM</td>\n",
              "      <td>2021-08-12</td>\n",
              "      <td>5:27:00 AM</td>\n",
              "      <td>DOGE</td>\n",
              "      <td>6.73</td>\n",
              "      <td>2</td>\n",
              "    </tr>\n",
              "    <tr>\n",
              "      <th>159</th>\n",
              "      <td>2021-08-10</td>\n",
              "      <td>12:37:46 PM</td>\n",
              "      <td>2021-08-12</td>\n",
              "      <td>5:27:46 AM</td>\n",
              "      <td>DOGE</td>\n",
              "      <td>5.63</td>\n",
              "      <td>2</td>\n",
              "    </tr>\n",
              "    <tr>\n",
              "      <th>167</th>\n",
              "      <td>2021-08-11</td>\n",
              "      <td>12:09:03 PM</td>\n",
              "      <td>2021-08-14</td>\n",
              "      <td>7:49:56 AM</td>\n",
              "      <td>DOGE</td>\n",
              "      <td>9.71</td>\n",
              "      <td>3</td>\n",
              "    </tr>\n",
              "    <tr>\n",
              "      <th>168</th>\n",
              "      <td>2021-08-11</td>\n",
              "      <td>12:09:36 PM</td>\n",
              "      <td>2021-08-14</td>\n",
              "      <td>7:50:29 AM</td>\n",
              "      <td>DOGE</td>\n",
              "      <td>11.50</td>\n",
              "      <td>3</td>\n",
              "    </tr>\n",
              "    <tr>\n",
              "      <th>174</th>\n",
              "      <td>2021-08-11</td>\n",
              "      <td>9:41:51 PM</td>\n",
              "      <td>2021-08-14</td>\n",
              "      <td>7:52:30 AM</td>\n",
              "      <td>DOGE</td>\n",
              "      <td>7.13</td>\n",
              "      <td>3</td>\n",
              "    </tr>\n",
              "    <tr>\n",
              "      <th>183</th>\n",
              "      <td>2021-08-12</td>\n",
              "      <td>7:57:04 AM</td>\n",
              "      <td>2021-08-14</td>\n",
              "      <td>7:53:37 AM</td>\n",
              "      <td>DOGE</td>\n",
              "      <td>6.99</td>\n",
              "      <td>2</td>\n",
              "    </tr>\n",
              "    <tr>\n",
              "      <th>184</th>\n",
              "      <td>2021-08-12</td>\n",
              "      <td>10:16:21 AM</td>\n",
              "      <td>2021-08-14</td>\n",
              "      <td>7:54:22 AM</td>\n",
              "      <td>DOGE</td>\n",
              "      <td>7.12</td>\n",
              "      <td>2</td>\n",
              "    </tr>\n",
              "    <tr>\n",
              "      <th>187</th>\n",
              "      <td>2021-08-12</td>\n",
              "      <td>12:45:27 PM</td>\n",
              "      <td>2021-08-14</td>\n",
              "      <td>7:54:54 AM</td>\n",
              "      <td>DOGE</td>\n",
              "      <td>11.18</td>\n",
              "      <td>2</td>\n",
              "    </tr>\n",
              "    <tr>\n",
              "      <th>192</th>\n",
              "      <td>2021-08-12</td>\n",
              "      <td>8:10:41 PM</td>\n",
              "      <td>2021-08-14</td>\n",
              "      <td>7:55:37 AM</td>\n",
              "      <td>DOGE</td>\n",
              "      <td>10.95</td>\n",
              "      <td>2</td>\n",
              "    </tr>\n",
              "  </tbody>\n",
              "</table>\n",
              "</div>"
            ],
            "text/plain": [
              "    Purchase_date Purchase_time  ... Profit percentage Trade_duration\n",
              "59     2021-07-28    1:15:17 PM  ...             34.83             11\n",
              "127    2021-08-07    5:55:42 AM  ...             27.06              1\n",
              "143    2021-08-09    1:18:50 AM  ...              7.27              0\n",
              "147    2021-08-09    8:40:47 AM  ...              3.16              0\n",
              "148    2021-08-09    8:54:58 AM  ...              2.90              0\n",
              "149    2021-08-09   12:30:11 PM  ...              6.68              3\n",
              "157    2021-08-10    7:36:11 AM  ...              6.73              2\n",
              "159    2021-08-10   12:37:46 PM  ...              5.63              2\n",
              "167    2021-08-11   12:09:03 PM  ...              9.71              3\n",
              "168    2021-08-11   12:09:36 PM  ...             11.50              3\n",
              "174    2021-08-11    9:41:51 PM  ...              7.13              3\n",
              "183    2021-08-12    7:57:04 AM  ...              6.99              2\n",
              "184    2021-08-12   10:16:21 AM  ...              7.12              2\n",
              "187    2021-08-12   12:45:27 PM  ...             11.18              2\n",
              "192    2021-08-12    8:10:41 PM  ...             10.95              2\n",
              "\n",
              "[15 rows x 7 columns]"
            ]
          },
          "metadata": {},
          "execution_count": 157
        }
      ]
    },
    {
      "cell_type": "markdown",
      "metadata": {
        "id": "v984_6r44RcK"
      },
      "source": [
        "What were my ADA trades?"
      ]
    },
    {
      "cell_type": "code",
      "metadata": {
        "colab": {
          "base_uri": "https://localhost:8080/",
          "height": 1000
        },
        "id": "lflyNKNY4Q2N",
        "outputId": "ede22841-471e-4ee4-fb77-109af244995e"
      },
      "source": [
        "Crypto.loc[(Crypto['Market'] == 'ADA')]"
      ],
      "execution_count": 158,
      "outputs": [
        {
          "output_type": "execute_result",
          "data": {
            "text/html": [
              "<div>\n",
              "<style scoped>\n",
              "    .dataframe tbody tr th:only-of-type {\n",
              "        vertical-align: middle;\n",
              "    }\n",
              "\n",
              "    .dataframe tbody tr th {\n",
              "        vertical-align: top;\n",
              "    }\n",
              "\n",
              "    .dataframe thead th {\n",
              "        text-align: right;\n",
              "    }\n",
              "</style>\n",
              "<table border=\"1\" class=\"dataframe\">\n",
              "  <thead>\n",
              "    <tr style=\"text-align: right;\">\n",
              "      <th></th>\n",
              "      <th>Purchase_date</th>\n",
              "      <th>Purchase_time</th>\n",
              "      <th>Sell_date</th>\n",
              "      <th>Sell_time</th>\n",
              "      <th>Market</th>\n",
              "      <th>Profit percentage</th>\n",
              "      <th>Trade_duration</th>\n",
              "    </tr>\n",
              "  </thead>\n",
              "  <tbody>\n",
              "    <tr>\n",
              "      <th>1</th>\n",
              "      <td>2021-06-05</td>\n",
              "      <td>3:03:56 PM</td>\n",
              "      <td>2021-06-07</td>\n",
              "      <td>12:00:12 PM</td>\n",
              "      <td>ADA</td>\n",
              "      <td>3.10</td>\n",
              "      <td>2</td>\n",
              "    </tr>\n",
              "    <tr>\n",
              "      <th>2</th>\n",
              "      <td>2021-06-05</td>\n",
              "      <td>3:39:57 PM</td>\n",
              "      <td>2021-08-11</td>\n",
              "      <td>5:40:17 AM</td>\n",
              "      <td>ADA</td>\n",
              "      <td>3.34</td>\n",
              "      <td>67</td>\n",
              "    </tr>\n",
              "    <tr>\n",
              "      <th>3</th>\n",
              "      <td>2021-06-10</td>\n",
              "      <td>6:14:45 AM</td>\n",
              "      <td>2021-08-11</td>\n",
              "      <td>5:44:49 AM</td>\n",
              "      <td>ADA</td>\n",
              "      <td>10.97</td>\n",
              "      <td>62</td>\n",
              "    </tr>\n",
              "    <tr>\n",
              "      <th>22</th>\n",
              "      <td>2021-06-16</td>\n",
              "      <td>5:19:28 PM</td>\n",
              "      <td>2021-06-17</td>\n",
              "      <td>4:21:20 AM</td>\n",
              "      <td>ADA</td>\n",
              "      <td>2.32</td>\n",
              "      <td>1</td>\n",
              "    </tr>\n",
              "    <tr>\n",
              "      <th>27</th>\n",
              "      <td>2021-06-17</td>\n",
              "      <td>6:40:09 AM</td>\n",
              "      <td>2021-08-10</td>\n",
              "      <td>10:25:31 PM</td>\n",
              "      <td>ADA</td>\n",
              "      <td>9.54</td>\n",
              "      <td>54</td>\n",
              "    </tr>\n",
              "    <tr>\n",
              "      <th>32</th>\n",
              "      <td>2021-06-17</td>\n",
              "      <td>1:14:39 PM</td>\n",
              "      <td>2021-08-10</td>\n",
              "      <td>10:25:36 PM</td>\n",
              "      <td>ADA</td>\n",
              "      <td>11.83</td>\n",
              "      <td>54</td>\n",
              "    </tr>\n",
              "    <tr>\n",
              "      <th>74</th>\n",
              "      <td>2021-08-01</td>\n",
              "      <td>8:17:31 AM</td>\n",
              "      <td>2021-08-08</td>\n",
              "      <td>12:48:51 AM</td>\n",
              "      <td>ADA</td>\n",
              "      <td>7.30</td>\n",
              "      <td>7</td>\n",
              "    </tr>\n",
              "    <tr>\n",
              "      <th>91</th>\n",
              "      <td>2021-08-03</td>\n",
              "      <td>1:27:32 AM</td>\n",
              "      <td>2021-08-03</td>\n",
              "      <td>2:49:19 PM</td>\n",
              "      <td>ADA</td>\n",
              "      <td>3.61</td>\n",
              "      <td>0</td>\n",
              "    </tr>\n",
              "    <tr>\n",
              "      <th>153</th>\n",
              "      <td>2021-08-10</td>\n",
              "      <td>5:11:14 AM</td>\n",
              "      <td>2021-08-10</td>\n",
              "      <td>10:29:57 PM</td>\n",
              "      <td>ADA</td>\n",
              "      <td>13.71</td>\n",
              "      <td>0</td>\n",
              "    </tr>\n",
              "    <tr>\n",
              "      <th>173</th>\n",
              "      <td>2021-08-11</td>\n",
              "      <td>4:18:51 PM</td>\n",
              "      <td>2021-08-13</td>\n",
              "      <td>12:00:49 PM</td>\n",
              "      <td>ADA</td>\n",
              "      <td>8.94</td>\n",
              "      <td>2</td>\n",
              "    </tr>\n",
              "    <tr>\n",
              "      <th>196</th>\n",
              "      <td>2021-08-13</td>\n",
              "      <td>5:49:23 PM</td>\n",
              "      <td>2021-08-14</td>\n",
              "      <td>4:52:48 AM</td>\n",
              "      <td>ADA</td>\n",
              "      <td>4.06</td>\n",
              "      <td>1</td>\n",
              "    </tr>\n",
              "    <tr>\n",
              "      <th>203</th>\n",
              "      <td>2021-08-14</td>\n",
              "      <td>5:27:02 AM</td>\n",
              "      <td>2021-08-14</td>\n",
              "      <td>6:34:12 AM</td>\n",
              "      <td>ADA</td>\n",
              "      <td>2.17</td>\n",
              "      <td>0</td>\n",
              "    </tr>\n",
              "    <tr>\n",
              "      <th>207</th>\n",
              "      <td>2021-08-14</td>\n",
              "      <td>12:38:06 PM</td>\n",
              "      <td>2021-08-19</td>\n",
              "      <td>9:54:44 PM</td>\n",
              "      <td>ADA</td>\n",
              "      <td>9.50</td>\n",
              "      <td>5</td>\n",
              "    </tr>\n",
              "    <tr>\n",
              "      <th>210</th>\n",
              "      <td>2021-08-14</td>\n",
              "      <td>2:45:31 PM</td>\n",
              "      <td>2021-08-19</td>\n",
              "      <td>9:57:43 PM</td>\n",
              "      <td>ADA</td>\n",
              "      <td>7.62</td>\n",
              "      <td>5</td>\n",
              "    </tr>\n",
              "    <tr>\n",
              "      <th>215</th>\n",
              "      <td>2021-08-15</td>\n",
              "      <td>5:25:20 AM</td>\n",
              "      <td>2021-08-19</td>\n",
              "      <td>6:47:44 PM</td>\n",
              "      <td>ADA</td>\n",
              "      <td>5.00</td>\n",
              "      <td>4</td>\n",
              "    </tr>\n",
              "    <tr>\n",
              "      <th>225</th>\n",
              "      <td>2021-08-16</td>\n",
              "      <td>2:05:07 PM</td>\n",
              "      <td>2021-08-19</td>\n",
              "      <td>10:03:28 PM</td>\n",
              "      <td>ADA</td>\n",
              "      <td>11.60</td>\n",
              "      <td>3</td>\n",
              "    </tr>\n",
              "    <tr>\n",
              "      <th>235</th>\n",
              "      <td>2021-08-17</td>\n",
              "      <td>6:32:06 AM</td>\n",
              "      <td>2021-08-18</td>\n",
              "      <td>11:46:27 PM</td>\n",
              "      <td>ADA</td>\n",
              "      <td>2.16</td>\n",
              "      <td>1</td>\n",
              "    </tr>\n",
              "    <tr>\n",
              "      <th>240</th>\n",
              "      <td>2021-08-17</td>\n",
              "      <td>5:13:49 PM</td>\n",
              "      <td>2021-08-18</td>\n",
              "      <td>11:47:26 PM</td>\n",
              "      <td>ADA</td>\n",
              "      <td>3.44</td>\n",
              "      <td>1</td>\n",
              "    </tr>\n",
              "    <tr>\n",
              "      <th>262</th>\n",
              "      <td>2021-08-19</td>\n",
              "      <td>11:03:13 PM</td>\n",
              "      <td>2021-08-20</td>\n",
              "      <td>5:24:57 AM</td>\n",
              "      <td>ADA</td>\n",
              "      <td>5.50</td>\n",
              "      <td>1</td>\n",
              "    </tr>\n",
              "    <tr>\n",
              "      <th>263</th>\n",
              "      <td>2021-08-20</td>\n",
              "      <td>12:16:59 AM</td>\n",
              "      <td>2021-08-20</td>\n",
              "      <td>9:44:00 AM</td>\n",
              "      <td>ADA</td>\n",
              "      <td>2.49</td>\n",
              "      <td>0</td>\n",
              "    </tr>\n",
              "    <tr>\n",
              "      <th>264</th>\n",
              "      <td>2021-08-20</td>\n",
              "      <td>5:08:10 AM</td>\n",
              "      <td>2021-08-22</td>\n",
              "      <td>1:05:36 PM</td>\n",
              "      <td>ADA</td>\n",
              "      <td>2.45</td>\n",
              "      <td>2</td>\n",
              "    </tr>\n",
              "    <tr>\n",
              "      <th>266</th>\n",
              "      <td>2021-08-20</td>\n",
              "      <td>12:45:09 PM</td>\n",
              "      <td>2021-08-22</td>\n",
              "      <td>10:13:22 AM</td>\n",
              "      <td>ADA</td>\n",
              "      <td>5.42</td>\n",
              "      <td>2</td>\n",
              "    </tr>\n",
              "    <tr>\n",
              "      <th>271</th>\n",
              "      <td>2021-08-21</td>\n",
              "      <td>10:27:31 AM</td>\n",
              "      <td>2021-08-22</td>\n",
              "      <td>10:20:13 AM</td>\n",
              "      <td>ADA</td>\n",
              "      <td>6.12</td>\n",
              "      <td>1</td>\n",
              "    </tr>\n",
              "    <tr>\n",
              "      <th>274</th>\n",
              "      <td>2021-08-21</td>\n",
              "      <td>7:36:06 PM</td>\n",
              "      <td>2021-08-22</td>\n",
              "      <td>5:10:40 AM</td>\n",
              "      <td>ADA</td>\n",
              "      <td>3.34</td>\n",
              "      <td>1</td>\n",
              "    </tr>\n",
              "    <tr>\n",
              "      <th>276</th>\n",
              "      <td>2021-08-22</td>\n",
              "      <td>6:25:38 AM</td>\n",
              "      <td>2021-08-23</td>\n",
              "      <td>1:23:30 AM</td>\n",
              "      <td>ADA</td>\n",
              "      <td>11.04</td>\n",
              "      <td>1</td>\n",
              "    </tr>\n",
              "    <tr>\n",
              "      <th>277</th>\n",
              "      <td>2021-08-22</td>\n",
              "      <td>1:29:33 PM</td>\n",
              "      <td>2021-08-23</td>\n",
              "      <td>1:31:47 AM</td>\n",
              "      <td>ADA</td>\n",
              "      <td>10.30</td>\n",
              "      <td>1</td>\n",
              "    </tr>\n",
              "    <tr>\n",
              "      <th>282</th>\n",
              "      <td>2021-08-23</td>\n",
              "      <td>2:38:17 AM</td>\n",
              "      <td>2021-08-23</td>\n",
              "      <td>5:05:48 PM</td>\n",
              "      <td>ADA</td>\n",
              "      <td>5.10</td>\n",
              "      <td>0</td>\n",
              "    </tr>\n",
              "    <tr>\n",
              "      <th>297</th>\n",
              "      <td>2021-08-26</td>\n",
              "      <td>4:30:16 AM</td>\n",
              "      <td>2021-08-27</td>\n",
              "      <td>5:38:37 PM</td>\n",
              "      <td>ADA</td>\n",
              "      <td>8.03</td>\n",
              "      <td>1</td>\n",
              "    </tr>\n",
              "  </tbody>\n",
              "</table>\n",
              "</div>"
            ],
            "text/plain": [
              "    Purchase_date Purchase_time  ... Profit percentage Trade_duration\n",
              "1      2021-06-05    3:03:56 PM  ...              3.10              2\n",
              "2      2021-06-05    3:39:57 PM  ...              3.34             67\n",
              "3      2021-06-10    6:14:45 AM  ...             10.97             62\n",
              "22     2021-06-16    5:19:28 PM  ...              2.32              1\n",
              "27     2021-06-17    6:40:09 AM  ...              9.54             54\n",
              "32     2021-06-17    1:14:39 PM  ...             11.83             54\n",
              "74     2021-08-01    8:17:31 AM  ...              7.30              7\n",
              "91     2021-08-03    1:27:32 AM  ...              3.61              0\n",
              "153    2021-08-10    5:11:14 AM  ...             13.71              0\n",
              "173    2021-08-11    4:18:51 PM  ...              8.94              2\n",
              "196    2021-08-13    5:49:23 PM  ...              4.06              1\n",
              "203    2021-08-14    5:27:02 AM  ...              2.17              0\n",
              "207    2021-08-14   12:38:06 PM  ...              9.50              5\n",
              "210    2021-08-14    2:45:31 PM  ...              7.62              5\n",
              "215    2021-08-15    5:25:20 AM  ...              5.00              4\n",
              "225    2021-08-16    2:05:07 PM  ...             11.60              3\n",
              "235    2021-08-17    6:32:06 AM  ...              2.16              1\n",
              "240    2021-08-17    5:13:49 PM  ...              3.44              1\n",
              "262    2021-08-19   11:03:13 PM  ...              5.50              1\n",
              "263    2021-08-20   12:16:59 AM  ...              2.49              0\n",
              "264    2021-08-20    5:08:10 AM  ...              2.45              2\n",
              "266    2021-08-20   12:45:09 PM  ...              5.42              2\n",
              "271    2021-08-21   10:27:31 AM  ...              6.12              1\n",
              "274    2021-08-21    7:36:06 PM  ...              3.34              1\n",
              "276    2021-08-22    6:25:38 AM  ...             11.04              1\n",
              "277    2021-08-22    1:29:33 PM  ...             10.30              1\n",
              "282    2021-08-23    2:38:17 AM  ...              5.10              0\n",
              "297    2021-08-26    4:30:16 AM  ...              8.03              1\n",
              "\n",
              "[28 rows x 7 columns]"
            ]
          },
          "metadata": {},
          "execution_count": 158
        }
      ]
    },
    {
      "cell_type": "markdown",
      "metadata": {
        "id": "ZkuXwtaY08MN"
      },
      "source": [
        "Overall this exercise has given me good insights on my new trading plan. I can consider adding more DOGE trades to increase my profitability and decrease how long I have to hold a trade. Most of my trades are ETH and they tend to be the least profitable. I hold ADA trades the longest. Now I can make some changes and re-evaluate my trading strategy. Happy trading!!"
      ]
    },
    {
      "cell_type": "code",
      "metadata": {
        "colab": {
          "base_uri": "https://localhost:8080/",
          "height": 563
        },
        "id": "eCb8EjC940cj",
        "outputId": "d2ea073c-d38e-4e74-864e-dad969cd38bd"
      },
      "source": [
        "from IPython.display import Image\n",
        "from IPython.core.display import HTML \n",
        "Image(url= 'https://www.upslide.net/wp-content/uploads/2016/06/Clustered-Column-Curbe.gif')"
      ],
      "execution_count": 160,
      "outputs": [
        {
          "output_type": "execute_result",
          "data": {
            "text/html": [
              "<img src=\"https://www.upslide.net/wp-content/uploads/2016/06/Clustered-Column-Curbe.gif\"/>"
            ],
            "text/plain": [
              "<IPython.core.display.Image object>"
            ]
          },
          "metadata": {},
          "execution_count": 160
        }
      ]
    }
  ]
}